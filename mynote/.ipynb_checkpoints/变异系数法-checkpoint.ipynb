{
 "cells": [
  {
   "cell_type": "markdown",
   "id": "4be7d006",
   "metadata": {},
   "source": [
    "原始矩阵  \n",
    "\n",
    "| 对象  | 指标1 | 指标2 |\n",
    "| :---: | :---: | :---: |\n",
    "| 对象1 |  xx   |  xx   |\n",
    "| 对象2 |  xx   |  xx   | "
   ]
  },
  {
   "cell_type": "markdown",
   "id": "8c27aaff",
   "metadata": {},
   "source": [
    "* 正向化（正向指标，见TOPSIS）  \n",
    "* 标准化（统一量纲，见TOPSIS）  \n",
    "* 计算变异系数  \n",
    "$$\n",
    "各指标平均数：A_j=\\frac{1}{n}\\sum_{i=1}^{n}r_{ij}\\\\\n",
    "各指标标准差  ：S_j=\\sqrt{\\frac{1}{n}\\sum_{i=1}^n(A_j-r_{ij})^2}\\\\\n",
    "变异系数：V_j=\\frac{S_j}{A_j}\n",
    "$$"
   ]
  },
  {
   "cell_type": "markdown",
   "id": "6433cc2d",
   "metadata": {},
   "source": [
    "* 计算权重  \n",
    "$$\\omega_j=\\frac{V_j}{\\sum_{j=1}^{n}V_j}$$  \n",
    "* 计算得分  \n",
    "$$score_i=\\sum_{j=1}^n\\omega_j*r_{ij}$$"
   ]
  },
  {
   "cell_type": "code",
   "execution_count": null,
   "id": "8373c07b",
   "metadata": {},
   "outputs": [],
   "source": []
  }
 ],
 "metadata": {
  "kernelspec": {
   "display_name": "Python [conda env:torch] *",
   "language": "python",
   "name": "conda-env-torch-py"
  },
  "language_info": {
   "codemirror_mode": {
    "name": "ipython",
    "version": 3
   },
   "file_extension": ".py",
   "mimetype": "text/x-python",
   "name": "python",
   "nbconvert_exporter": "python",
   "pygments_lexer": "ipython3",
   "version": "3.9.13"
  }
 },
 "nbformat": 4,
 "nbformat_minor": 5
}
