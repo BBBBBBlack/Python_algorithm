{
 "cells": [
  {
   "cell_type": "markdown",
   "id": "f5306649",
   "metadata": {},
   "source": [
    "[SALib中文文档](http://wsmxcz.com/index.php/2022/08/18/%E5%9F%BA%E4%BA%8Epython%E8%AF%AD%E8%A8%80%E7%9A%84%E7%81%B5%E6%95%8F%E5%BA%A6%E5%88%86%E6%9E%90-salib%E5%BA%93/)  \n",
    "[API参数说明](https://blog.csdn.net/weixin_43388615/article/details/108456879?spm=1001.2101.3001.6650.6&utm_medium=distribute.pc_relevant.none-task-blog-2%7Edefault%7ECTRLIST%7ERate-6-108456879-blog-124807542.235%5Ev43%5Epc_blog_bottom_relevance_base2&depth_1-utm_source=distribute.pc_relevant.none-task-blog-2%7Edefault%7ECTRLIST%7ERate-6-108456879-blog-124807542.235%5Ev43%5Epc_blog_bottom_relevance_base2&utm_relevant_index=13)  \n",
    "分析有关因素发生某种变化对某一个或一组关键指标影响程度"
   ]
  },
  {
   "cell_type": "markdown",
   "id": "9824e3f0",
   "metadata": {},
   "source": [
    "* 返回值\n",
    "    * S1：一阶Sobol指数，表示每个参数对输出的主导影响  \n",
    "    * S2：二阶Sobol指数，表示两个参数之间的交互作用对输出的影响  \n",
    "    * ST：总Sobol指数，表示每个参数总体上对输出的影响，包括直接和交互作用"
   ]
  },
  {
   "cell_type": "code",
   "execution_count": 12,
   "id": "c970efba",
   "metadata": {},
   "outputs": [
    {
     "name": "stdout",
     "output_type": "stream",
     "text": [
      "          ST   ST_conf\n",
      "x1  0.555860  0.087523\n",
      "x2  0.441898  0.041033\n",
      "x3  0.244675  0.027721\n",
      "          S1   S1_conf\n",
      "x1  0.316832  0.066861\n",
      "x2  0.443763  0.050383\n",
      "x3  0.012203  0.060516\n",
      "                S2   S2_conf\n",
      "(x1, x2)  0.009254  0.097320\n",
      "(x1, x3)  0.238172  0.117635\n",
      "(x2, x3) -0.004888  0.061355\n"
     ]
    },
    {
     "name": "stderr",
     "output_type": "stream",
     "text": [
      "C:\\Users\\black\\AppData\\Local\\Temp\\ipykernel_6388\\1750452266.py:19: DeprecationWarning: `salib.sample.saltelli` will be removed in SALib 1.5. Please use `salib.sample.sobol`\n",
      "  param_values = saltelli.sample(problem, N=1024)\n"
     ]
    },
    {
     "data": {
      "text/plain": [
       "<AxesSubplot: >"
      ]
     },
     "execution_count": 12,
     "metadata": {},
     "output_type": "execute_result"
    },
    {
     "data": {
      "image/png": "[encoded data removed]",
      "text/plain": [
       "<Figure size 640x480 with 1 Axes>"
      ]
     },
     "metadata": {},
     "output_type": "display_data"
    }
   ],
   "source": [
    "from SALib.sample import saltelli\n",
    "from SALib.analyze import sobol\n",
    "from SALib.test_functions import Ishigami\n",
    "from SALib.plotting.bar import plot as barplot\n",
    "import matplotlib.pyplot as plot\n",
    "import numpy as np\n",
    "\n",
    "# Define the model inputs\n",
    "problem = {\n",
    "    'num_vars': 3,\n",
    "    'names': ['x1', 'x2', 'x3'],\n",
    "    'bounds': [[-3.14159265359, 3.14159265359],\n",
    "               [-3.14159265359, 3.14159265359],\n",
    "               [-3.14159265359, 3.14159265359]]\n",
    "}\n",
    "\n",
    "# Generate samples\n",
    "# 采样，生成N*(2D+2)个样本（D为problem中参数个数），每个参数的值在[-3.14159265359, 3.14159265359]之间\n",
    "param_values = saltelli.sample(problem, N=1024)\n",
    "\n",
    "# Run model (example)\n",
    "# 计算每个样本的输出值\n",
    "Y = Ishigami.evaluate(param_values)\n",
    "\n",
    "# Perform analysis\n",
    "# 计算灵敏度指数\n",
    "Si = sobol.analyze(problem, Y, print_to_console=True)\n",
    "Si_df = Si.to_df()\n",
    "barplot(Si_df[0])\n"
   ]
  },
  {
   "cell_type": "code",
   "execution_count": null,
   "id": "3db72a70",
   "metadata": {},
   "outputs": [],
   "source": []
  }
 ],
 "metadata": {
  "kernelspec": {
   "display_name": "Python [conda env:torch] *",
   "language": "python",
   "name": "conda-env-torch-py"
  },
  "language_info": {
   "codemirror_mode": {
    "name": "ipython",
    "version": 3
   },
   "file_extension": ".py",
   "mimetype": "text/x-python",
   "name": "python",
   "nbconvert_exporter": "python",
   "pygments_lexer": "ipython3",
   "version": "3.9.13"
  }
 },
 "nbformat": 4,
 "nbformat_minor": 5
}
