{
 "cells": [
  {
   "cell_type": "markdown",
   "id": "6d6e9a22",
   "metadata": {},
   "source": [
    "原始矩阵  \n",
    "\n",
    "| 对象  | 指标1 | 指标2 |\n",
    "| :---: | :---: | :---: |\n",
    "| 对象1 |  xx   |  xx   |\n",
    "| 对象2 |  xx   |  xx   |  \n",
    "\n",
    "* 正向化  \n",
    "    **将所有指标类型统一转化为极大型指标**  \n",
    "\n",
    "    |       指标名称       |     指标特点     |\n",
    "    | :------------------: | :--------------: |\n",
    "    | 极大型（效益性指标） |  越大（多）越好  |\n",
    "    | 较小型（成本型）指标 |  越小（少）越好  |\n",
    "    |      中间型指标      | 越接近某个值越好 |\n",
    "    |      区间型指标      | 落在某个区间最好 |  \n",
    "    \n",
    "    * 极小型->极大型  \n",
    "    $$\n",
    "    max-x\\\\\\frac{1}{x}(x> 0)\n",
    "    $$\n",
    "    * 中间型->极大型  \n",
    "    $$M=max\\{|x_i-x_{best}|\\},\\bar{x_i}=1-\\frac{|x_i-x_{best}|}M$$  \n",
    "    * 区间型->极大型  \n",
    "    $$M=max\\{a-min\\{x_i\\},max\\{x_i\\}-b\\},\\bar{x_i}=\\begin{cases}1-\\frac{a-x_i}M&x_i<a\\\\1&a\\leq x_i\\leq b\\\\1-\\frac{x_i-b}M&x_i>b&\\end{cases}$$\n",
    "* 标准化\n",
    "$$z_{ij}=\\frac{x_{ij}}{\\sqrt{\\sum_{i=0}^nx_{ij}^2}}(\\frac{\\text{每一个元素}}{ \\sqrt {\\text{其所在列的元素的平方和}} })$$\n",
    "* 归一化\n",
    "    $$\\begin{aligned}\n",
    "&\\text{定义最大值: }\\\\\n",
    "&Z^{+} =(Z_1^+,Z_2^+,\\cdots,Z_m^+)\\\\\n",
    "&=(max\\{z_{11},z_{21},\\cdots,z_{n1}\\},max\\{z_{12},z_{22},\\cdots,z_{n2}\\},\\cdots,max\\{z_{1m},z_{2m},\\cdots,z_{nm}\\})\\\\\n",
    "&\\text{定义最小值: }\\\\\n",
    "&Z^{-} =(Z_1^-,Z_2^-,\\cdots,Z_m^-)  \\\\\n",
    "&=(min\\{z_{11},z_{21},\\cdots,z_{n1}\\},min\\{z_{12},z_{22},\\cdots,z_{n2}\\},\\cdots,min\\{z_{1m},z_{2m},\\cdots,z_{nm}\\})\\\\\n",
    "&\\text{定义第}i(i=1,2,\\cdots,n)\\text{个评价对象与最大值的距离}D_i^+=\\sqrt{\\sum_{j=1}^m{\\omega_j(Z_j^+-z_{ij})^2}}\\\\&\\text{定义第}i(i=1,2,\\cdots,n)\\text{个评价对象与最小值的距离}D_i^+=\\sqrt{\\sum_{j=1}^m{\\omega_j(Z_j^+-z_{ij})^2}}\\\\\n",
    "&\\omega_j——权重，根据层次分析法或熵权法得出\\\\\n",
    "&\\text{那么,我们可以计算出第}i(i=1,2,\\cdots,n)\\text{个评价对象归一化的得分:}S_i=\\frac{D_i^-}{D_i^++D_i^-}\n",
    "\\end{aligned}$$"
   ]
  },
  {
   "cell_type": "code",
   "execution_count": null,
   "id": "efbec28f",
   "metadata": {},
   "outputs": [],
   "source": []
  }
 ],
 "metadata": {
  "kernelspec": {
   "display_name": "Python 3 (ipykernel)",
   "language": "python",
   "name": "python3"
  },
  "language_info": {
   "codemirror_mode": {
    "name": "ipython",
    "version": 3
   },
   "file_extension": ".py",
   "mimetype": "text/x-python",
   "name": "python",
   "nbconvert_exporter": "python",
   "pygments_lexer": "ipython3",
   "version": "3.9.13"
  }
 },
 "nbformat": 4,
 "nbformat_minor": 5
}
